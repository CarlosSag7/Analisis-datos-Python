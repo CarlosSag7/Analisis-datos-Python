{
 "cells": [
  {
   "cell_type": "code",
   "execution_count": null,
   "id": "66d96df3-c142-4a4b-8c88-170114dd765e",
   "metadata": {},
   "outputs": [],
   "source": [
    "import pandas as pd\n",
    "from pymongo import MongoClient"
   ]
  },
  {
   "cell_type": "code",
   "execution_count": null,
   "id": "f4744091-6e01-430a-8fbb-3f37474fba7d",
   "metadata": {},
   "outputs": [],
   "source": [
    "df_customers = pd.read_csv('./data_retail/customers', sep='|', header=None, names=[\"customer_id\",\"customer_fname\",\"customer_lname\",\"customer_email\",\"customer_password\",\"customer_street\",\"customer_city\",\"customer_state\",\"customer_zipcode\"])\n",
    "df_customers"
   ]
  }
 ],
 "metadata": {
  "kernelspec": {
   "display_name": "Python 3 (ipykernel)",
   "language": "python",
   "name": "python3"
  },
  "language_info": {
   "codemirror_mode": {
    "name": "ipython",
    "version": 3
   },
   "file_extension": ".py",
   "mimetype": "text/x-python",
   "name": "python",
   "nbconvert_exporter": "python",
   "pygments_lexer": "ipython3",
   "version": "3.9.19"
  }
 },
 "nbformat": 4,
 "nbformat_minor": 5
}
